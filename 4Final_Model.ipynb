{
 "cells": [
  {
   "cell_type": "code",
   "execution_count": 2,
   "metadata": {
    "colab": {
     "base_uri": "https://localhost:8080/"
    },
    "executionInfo": {
     "elapsed": 10781,
     "status": "ok",
     "timestamp": 1658246489574,
     "user": {
      "displayName": "jayantii",
      "userId": "04447985069730978285"
     },
     "user_tz": -330
    },
    "id": "Jb3MIdbr09Yj",
    "outputId": "dc73b6a3-051c-4da4-fd0b-ed8fcddd8f7b"
   },
   "outputs": [
    {
     "name": "stdout",
     "output_type": "stream",
     "text": [
      "Requirement already satisfied: efficientnet in /home/studio-lab-user/.conda/envs/default/lib/python3.9/site-packages (1.1.1)\n",
      "Requirement already satisfied: keras-applications<=1.0.8,>=1.0.7 in /home/studio-lab-user/.conda/envs/default/lib/python3.9/site-packages (from efficientnet) (1.0.8)\n",
      "Requirement already satisfied: scikit-image in /home/studio-lab-user/.conda/envs/default/lib/python3.9/site-packages (from efficientnet) (0.19.3)\n",
      "Requirement already satisfied: numpy>=1.9.1 in /home/studio-lab-user/.conda/envs/default/lib/python3.9/site-packages (from keras-applications<=1.0.8,>=1.0.7->efficientnet) (1.22.3)\n",
      "Requirement already satisfied: h5py in /home/studio-lab-user/.conda/envs/default/lib/python3.9/site-packages (from keras-applications<=1.0.8,>=1.0.7->efficientnet) (3.7.0)\n",
      "Requirement already satisfied: pillow!=7.1.0,!=7.1.1,!=8.3.0,>=6.1.0 in /home/studio-lab-user/.conda/envs/default/lib/python3.9/site-packages (from scikit-image->efficientnet) (9.0.1)\n",
      "Requirement already satisfied: packaging>=20.0 in /home/studio-lab-user/.conda/envs/default/lib/python3.9/site-packages (from scikit-image->efficientnet) (21.3)\n",
      "Requirement already satisfied: imageio>=2.4.1 in /home/studio-lab-user/.conda/envs/default/lib/python3.9/site-packages (from scikit-image->efficientnet) (2.19.5)\n",
      "Requirement already satisfied: scipy>=1.4.1 in /home/studio-lab-user/.conda/envs/default/lib/python3.9/site-packages (from scikit-image->efficientnet) (1.8.1)\n",
      "Requirement already satisfied: PyWavelets>=1.1.1 in /home/studio-lab-user/.conda/envs/default/lib/python3.9/site-packages (from scikit-image->efficientnet) (1.3.0)\n",
      "Requirement already satisfied: networkx>=2.2 in /home/studio-lab-user/.conda/envs/default/lib/python3.9/site-packages (from scikit-image->efficientnet) (2.8.5)\n",
      "Requirement already satisfied: tifffile>=2019.7.26 in /home/studio-lab-user/.conda/envs/default/lib/python3.9/site-packages (from scikit-image->efficientnet) (2022.5.4)\n",
      "Requirement already satisfied: pyparsing!=3.0.5,>=2.0.2 in /home/studio-lab-user/.conda/envs/default/lib/python3.9/site-packages (from packaging>=20.0->scikit-image->efficientnet) (3.0.6)\n",
      "Requirement already satisfied: tensorflow in /home/studio-lab-user/.conda/envs/default/lib/python3.9/site-packages (2.9.1)\n",
      "Requirement already satisfied: typing-extensions>=3.6.6 in /home/studio-lab-user/.conda/envs/default/lib/python3.9/site-packages (from tensorflow) (4.2.0)\n",
      "Requirement already satisfied: numpy>=1.20 in /home/studio-lab-user/.conda/envs/default/lib/python3.9/site-packages (from tensorflow) (1.22.3)\n",
      "Requirement already satisfied: packaging in /home/studio-lab-user/.conda/envs/default/lib/python3.9/site-packages (from tensorflow) (21.3)\n",
      "Requirement already satisfied: wrapt>=1.11.0 in /home/studio-lab-user/.conda/envs/default/lib/python3.9/site-packages (from tensorflow) (1.14.1)\n",
      "Requirement already satisfied: astunparse>=1.6.0 in /home/studio-lab-user/.conda/envs/default/lib/python3.9/site-packages (from tensorflow) (1.6.3)\n",
      "Requirement already satisfied: flatbuffers<2,>=1.12 in /home/studio-lab-user/.conda/envs/default/lib/python3.9/site-packages (from tensorflow) (1.12)\n",
      "Requirement already satisfied: h5py>=2.9.0 in /home/studio-lab-user/.conda/envs/default/lib/python3.9/site-packages (from tensorflow) (3.7.0)\n",
      "Requirement already satisfied: google-pasta>=0.1.1 in /home/studio-lab-user/.conda/envs/default/lib/python3.9/site-packages (from tensorflow) (0.2.0)\n",
      "Requirement already satisfied: protobuf<3.20,>=3.9.2 in /home/studio-lab-user/.conda/envs/default/lib/python3.9/site-packages (from tensorflow) (3.19.4)\n",
      "Requirement already satisfied: keras-preprocessing>=1.1.1 in /home/studio-lab-user/.conda/envs/default/lib/python3.9/site-packages (from tensorflow) (1.1.2)\n",
      "Requirement already satisfied: absl-py>=1.0.0 in /home/studio-lab-user/.conda/envs/default/lib/python3.9/site-packages (from tensorflow) (1.2.0)\n",
      "Requirement already satisfied: opt-einsum>=2.3.2 in /home/studio-lab-user/.conda/envs/default/lib/python3.9/site-packages (from tensorflow) (3.3.0)\n",
      "Requirement already satisfied: grpcio<2.0,>=1.24.3 in /home/studio-lab-user/.conda/envs/default/lib/python3.9/site-packages (from tensorflow) (1.47.0)\n",
      "Requirement already satisfied: termcolor>=1.1.0 in /home/studio-lab-user/.conda/envs/default/lib/python3.9/site-packages (from tensorflow) (1.1.0)\n",
      "Requirement already satisfied: tensorflow-estimator<2.10.0,>=2.9.0rc0 in /home/studio-lab-user/.conda/envs/default/lib/python3.9/site-packages (from tensorflow) (2.9.0)\n",
      "Requirement already satisfied: six>=1.12.0 in /home/studio-lab-user/.conda/envs/default/lib/python3.9/site-packages (from tensorflow) (1.16.0)\n",
      "Requirement already satisfied: gast<=0.4.0,>=0.2.1 in /home/studio-lab-user/.conda/envs/default/lib/python3.9/site-packages (from tensorflow) (0.4.0)\n",
      "Requirement already satisfied: keras<2.10.0,>=2.9.0rc0 in /home/studio-lab-user/.conda/envs/default/lib/python3.9/site-packages (from tensorflow) (2.9.0)\n",
      "Requirement already satisfied: setuptools in /home/studio-lab-user/.conda/envs/default/lib/python3.9/site-packages (from tensorflow) (59.4.0)\n",
      "Requirement already satisfied: tensorflow-io-gcs-filesystem>=0.23.1 in /home/studio-lab-user/.conda/envs/default/lib/python3.9/site-packages (from tensorflow) (0.26.0)\n",
      "Requirement already satisfied: libclang>=13.0.0 in /home/studio-lab-user/.conda/envs/default/lib/python3.9/site-packages (from tensorflow) (14.0.1)\n",
      "Requirement already satisfied: tensorboard<2.10,>=2.9 in /home/studio-lab-user/.conda/envs/default/lib/python3.9/site-packages (from tensorflow) (2.9.1)\n",
      "Requirement already satisfied: wheel<1.0,>=0.23.0 in /home/studio-lab-user/.conda/envs/default/lib/python3.9/site-packages (from astunparse>=1.6.0->tensorflow) (0.37.0)\n",
      "Requirement already satisfied: google-auth-oauthlib<0.5,>=0.4.1 in /home/studio-lab-user/.conda/envs/default/lib/python3.9/site-packages (from tensorboard<2.10,>=2.9->tensorflow) (0.4.6)\n",
      "Requirement already satisfied: tensorboard-plugin-wit>=1.6.0 in /home/studio-lab-user/.conda/envs/default/lib/python3.9/site-packages (from tensorboard<2.10,>=2.9->tensorflow) (1.8.1)\n",
      "Requirement already satisfied: google-auth<3,>=1.6.3 in /home/studio-lab-user/.conda/envs/default/lib/python3.9/site-packages (from tensorboard<2.10,>=2.9->tensorflow) (2.9.1)\n",
      "Requirement already satisfied: requests<3,>=2.21.0 in /home/studio-lab-user/.conda/envs/default/lib/python3.9/site-packages (from tensorboard<2.10,>=2.9->tensorflow) (2.27.1)\n",
      "Requirement already satisfied: tensorboard-data-server<0.7.0,>=0.6.0 in /home/studio-lab-user/.conda/envs/default/lib/python3.9/site-packages (from tensorboard<2.10,>=2.9->tensorflow) (0.6.1)\n",
      "Requirement already satisfied: werkzeug>=1.0.1 in /home/studio-lab-user/.conda/envs/default/lib/python3.9/site-packages (from tensorboard<2.10,>=2.9->tensorflow) (2.1.2)\n",
      "Requirement already satisfied: markdown>=2.6.8 in /home/studio-lab-user/.conda/envs/default/lib/python3.9/site-packages (from tensorboard<2.10,>=2.9->tensorflow) (3.4.1)\n",
      "Requirement already satisfied: cachetools<6.0,>=2.0.0 in /home/studio-lab-user/.conda/envs/default/lib/python3.9/site-packages (from google-auth<3,>=1.6.3->tensorboard<2.10,>=2.9->tensorflow) (5.2.0)\n",
      "Requirement already satisfied: rsa<5,>=3.1.4 in /home/studio-lab-user/.conda/envs/default/lib/python3.9/site-packages (from google-auth<3,>=1.6.3->tensorboard<2.10,>=2.9->tensorflow) (4.8)\n",
      "Requirement already satisfied: pyasn1-modules>=0.2.1 in /home/studio-lab-user/.conda/envs/default/lib/python3.9/site-packages (from google-auth<3,>=1.6.3->tensorboard<2.10,>=2.9->tensorflow) (0.2.8)\n",
      "Requirement already satisfied: requests-oauthlib>=0.7.0 in /home/studio-lab-user/.conda/envs/default/lib/python3.9/site-packages (from google-auth-oauthlib<0.5,>=0.4.1->tensorboard<2.10,>=2.9->tensorflow) (1.3.1)\n",
      "Requirement already satisfied: importlib-metadata>=4.4 in /home/studio-lab-user/.conda/envs/default/lib/python3.9/site-packages (from markdown>=2.6.8->tensorboard<2.10,>=2.9->tensorflow) (4.8.2)\n",
      "Requirement already satisfied: zipp>=0.5 in /home/studio-lab-user/.conda/envs/default/lib/python3.9/site-packages (from importlib-metadata>=4.4->markdown>=2.6.8->tensorboard<2.10,>=2.9->tensorflow) (3.6.0)\n",
      "Requirement already satisfied: pyasn1<0.5.0,>=0.4.6 in /home/studio-lab-user/.conda/envs/default/lib/python3.9/site-packages (from pyasn1-modules>=0.2.1->google-auth<3,>=1.6.3->tensorboard<2.10,>=2.9->tensorflow) (0.4.8)\n",
      "Requirement already satisfied: urllib3<1.27,>=1.21.1 in /home/studio-lab-user/.conda/envs/default/lib/python3.9/site-packages (from requests<3,>=2.21.0->tensorboard<2.10,>=2.9->tensorflow) (1.26.9)\n",
      "Requirement already satisfied: idna<4,>=2.5 in /home/studio-lab-user/.conda/envs/default/lib/python3.9/site-packages (from requests<3,>=2.21.0->tensorboard<2.10,>=2.9->tensorflow) (3.3)\n",
      "Requirement already satisfied: charset-normalizer~=2.0.0 in /home/studio-lab-user/.conda/envs/default/lib/python3.9/site-packages (from requests<3,>=2.21.0->tensorboard<2.10,>=2.9->tensorflow) (2.0.12)\n",
      "Requirement already satisfied: certifi>=2017.4.17 in /home/studio-lab-user/.conda/envs/default/lib/python3.9/site-packages (from requests<3,>=2.21.0->tensorboard<2.10,>=2.9->tensorflow) (2021.10.8)\n",
      "Requirement already satisfied: oauthlib>=3.0.0 in /home/studio-lab-user/.conda/envs/default/lib/python3.9/site-packages (from requests-oauthlib>=0.7.0->google-auth-oauthlib<0.5,>=0.4.1->tensorboard<2.10,>=2.9->tensorflow) (3.2.0)\n",
      "Requirement already satisfied: pyparsing!=3.0.5,>=2.0.2 in /home/studio-lab-user/.conda/envs/default/lib/python3.9/site-packages (from packaging->tensorflow) (3.0.6)\n",
      "Requirement already satisfied: keras in /home/studio-lab-user/.conda/envs/default/lib/python3.9/site-packages (2.9.0)\n"
     ]
    }
   ],
   "source": [
    "!pip install efficientnet\n",
    "!pip install tensorflow\n",
    "!pip install keras"
   ]
  },
  {
   "cell_type": "code",
   "execution_count": 1,
   "metadata": {
    "colab": {
     "base_uri": "https://localhost:8080/"
    },
    "executionInfo": {
     "elapsed": 19053,
     "status": "ok",
     "timestamp": 1658246516119,
     "user": {
      "displayName": "jayantii",
      "userId": "04447985069730978285"
     },
     "user_tz": -330
    },
    "id": "3daL-6-B09y_",
    "outputId": "3fd22eec-c20b-43f2-cfc1-71df7cff0289"
   },
   "outputs": [],
   "source": [
    "import efficientnet.tfkeras as efn  # Convolutional Neural Network architecture\n",
    "import IPython.display as ipd\n",
    "# import librosa.display\n",
    "import matplotlib.pyplot as plt\n",
    "import numpy as np\n",
    "from efficientnet.keras import preprocess_input\n",
    "from keras.callbacks import ModelCheckpoint, ReduceLROnPlateau\n",
    "from sklearn.utils import class_weight\n",
    "from tensorflow.keras.layers import Dense, Dropout, Flatten\n",
    "from tensorflow.keras.models import Model\n",
    "from tensorflow.keras.optimizers import Adam\n",
    "from tensorflow.keras.preprocessing.image import ImageDataGenerator"
   ]
  },
  {
   "cell_type": "code",
   "execution_count": 2,
   "metadata": {
    "executionInfo": {
     "elapsed": 621,
     "status": "ok",
     "timestamp": 1658246548738,
     "user": {
      "displayName": "jayantii",
      "userId": "04447985069730978285"
     },
     "user_tz": -330
    },
    "id": "5wC-JdS41qqX"
   },
   "outputs": [],
   "source": [
    "IM_SIZE = (224, 224) # changed this line\n",
    "BIRDS =    ['0Asian', '1Commo', '2White', '3White', '4Red-v', '5Commo']\n",
    "   \n",
    "DATA_PATH = \"Final_data/\"\n",
    "BATCH_SIZE = 20"
   ]
  },
  {
   "cell_type": "code",
   "execution_count": 3,
   "metadata": {
    "colab": {
     "base_uri": "https://localhost:8080/"
    },
    "executionInfo": {
     "elapsed": 17185,
     "status": "ok",
     "timestamp": 1658246570223,
     "user": {
      "displayName": "jayantii",
      "userId": "04447985069730978285"
     },
     "user_tz": -330
    },
    "id": "SZVIbEXJ1xgJ",
    "outputId": "0ab44255-2279-426f-e204-d774226a5378"
   },
   "outputs": [
    {
     "name": "stdout",
     "output_type": "stream",
     "text": [
      "Found 3339 images belonging to 6 classes.\n",
      "Found 319 images belonging to 6 classes.\n",
      "Found 371 images belonging to 6 classes.\n"
     ]
    }
   ],
   "source": [
    "train_datagen = ImageDataGenerator(  # Generate batches of tensor image data with real-time data augmentation.\n",
    "    preprocessing_function=preprocess_input,\n",
    "    width_shift_range=0.2,\n",
    "    height_shift_range=0.2,\n",
    "    shear_range=0.2,\n",
    "    zoom_range=0.1,\n",
    "    fill_mode=\"nearest\",\n",
    ")\n",
    "train_batches = train_datagen.flow_from_directory(\n",
    "    DATA_PATH + \"train\",\n",
    "    classes=BIRDS,\n",
    "    target_size=IM_SIZE,\n",
    "    color_mode = \"rgb\",\n",
    "    class_mode=\"categorical\",\n",
    "    shuffle=True,\n",
    "    batch_size=BATCH_SIZE,\n",
    ")\n",
    "\n",
    "valid_datagen = ImageDataGenerator(preprocessing_function=preprocess_input)\n",
    "valid_batches = valid_datagen.flow_from_directory(\n",
    "    DATA_PATH + \"val\",\n",
    "    classes=BIRDS,\n",
    "    target_size=IM_SIZE,\n",
    "    color_mode = \"rgb\",\n",
    "    class_mode=\"categorical\",\n",
    "    shuffle=False,\n",
    "    batch_size=BATCH_SIZE,\n",
    ")\n",
    "\n",
    "test_datagen = ImageDataGenerator(preprocessing_function=preprocess_input)\n",
    "test_batches = test_datagen.flow_from_directory(\n",
    "    DATA_PATH + \"test\",\n",
    "    classes=BIRDS,\n",
    "    target_size=IM_SIZE,\n",
    "    class_mode=\"categorical\",\n",
    "    shuffle=False,\n",
    "    batch_size=BATCH_SIZE,\n",
    ")"
   ]
  },
  {
   "cell_type": "code",
   "execution_count": 4,
   "metadata": {
    "executionInfo": {
     "elapsed": 803,
     "status": "ok",
     "timestamp": 1658246575362,
     "user": {
      "displayName": "jayantii",
      "userId": "04447985069730978285"
     },
     "user_tz": -330
    },
    "id": "MkeOlkClLGW9"
   },
   "outputs": [],
   "source": [
    "# Estimate class weights for unbalanced dataset\n",
    "class_weights = class_weight.compute_class_weight(\n",
    "   class_weight = \"balanced\", classes = np.unique(train_batches.classes),y= train_batches.classes\n",
    ")\n",
    "class_weights = {i:w for i,w in enumerate(class_weights)}\n",
    "\n",
    "\n",
    "ReduceLR = ReduceLROnPlateau(monitor=\"val_loss\", factor=0.2, patience=4, min_lr=1e-4)"
   ]
  },
  {
   "cell_type": "code",
   "execution_count": 9,
   "metadata": {
    "colab": {
     "background_save": true,
     "base_uri": "https://localhost:8080/"
    },
    "id": "9Qc417DC2mmM"
   },
   "outputs": [],
   "source": [
    "# Define CNN's architecture - CNN is a forward-feed network which automatically detects the important features  ( supervised type of Deep learning)\n",
    "net = efn.EfficientNetB7(\n",
    "    include_top=False, weights=\"imagenet\", input_tensor=None, input_shape=(224,224,3)\n",
    ")\n",
    "x = net.output\n",
    "x = Flatten()(x)\n",
    "#  Flatten -> Lots in a straight array\n",
    "x = Dense(512,activation = \"relu\")(x)\n",
    "x = Dense(256,activation = \"relu\")(x)\n",
    "x = Dropout(0.18)(x)\n",
    "x = Dense(128,activation = \"relu\")(x)\n",
    "x = Dense(32,activation = \"relu\")(x)\n",
    "x = Dropout(0.08)(x)\n",
    "x = Dense(16,activation = \"relu\")(x)\n",
    "\n",
    "\n",
    "output_layer = Dense(len(BIRDS), activation=\"softmax\", name=\"softmax\")(x)\n",
    "net_final = Model(inputs=net.input, outputs=output_layer)\n",
    "net_final.compile(\n",
    "    optimizer=Adam(learning_rate=0.0003), loss=\"categorical_crossentropy\", metrics=[\"accuracy\"]\n",
    ")\n",
    "\n",
    "# print(net_final.summary())"
   ]
  },
  {
   "cell_type": "code",
   "execution_count": null,
   "metadata": {},
   "outputs": [],
   "source": []
  },
  {
   "cell_type": "code",
   "execution_count": null,
   "metadata": {},
   "outputs": [],
   "source": []
  },
  {
   "cell_type": "code",
   "execution_count": 10,
   "metadata": {
    "executionInfo": {
     "elapsed": 121,
     "status": "ok",
     "timestamp": 1658242024133,
     "user": {
      "displayName": "jayantii",
      "userId": "04447985069730978285"
     },
     "user_tz": -330
    },
    "id": "o6cS1xGY5lBS"
   },
   "outputs": [
    {
     "name": "stdout",
     "output_type": "stream",
     "text": [
      "Epoch 1/40\n",
      "100/100 [==============================] - 98s 674ms/step - loss: 1.9263 - accuracy: 0.2360 - val_loss: 1.7764 - val_accuracy: 0.2320 - lr: 1.0000e-04\n",
      "Epoch 2/40\n",
      " 34/100 [=========>....................] - ETA: 39s - loss: 1.8021 - accuracy: 0.2706"
     ]
    },
    {
     "name": "stderr",
     "output_type": "stream",
     "text": [
      "2022-07-19 19:07:43.680930: W tensorflow/core/common_runtime/bfc_allocator.cc:290] Allocator (GPU_0_bfc) ran out of memory trying to allocate 3.59GiB with freed_by_count=0. The caller indicates that this is not a failure, but this may mean that there could be performance gains if more memory were available.\n",
      "2022-07-19 19:07:43.680993: W tensorflow/core/common_runtime/bfc_allocator.cc:290] Allocator (GPU_0_bfc) ran out of memory trying to allocate 3.59GiB with freed_by_count=0. The caller indicates that this is not a failure, but this may mean that there could be performance gains if more memory were available.\n",
      "2022-07-19 19:07:43.696388: W tensorflow/core/common_runtime/bfc_allocator.cc:290] Allocator (GPU_0_bfc) ran out of memory trying to allocate 3.54GiB with freed_by_count=0. The caller indicates that this is not a failure, but this may mean that there could be performance gains if more memory were available.\n",
      "2022-07-19 19:07:43.696442: W tensorflow/core/common_runtime/bfc_allocator.cc:290] Allocator (GPU_0_bfc) ran out of memory trying to allocate 3.54GiB with freed_by_count=0. The caller indicates that this is not a failure, but this may mean that there could be performance gains if more memory were available.\n"
     ]
    },
    {
     "name": "stdout",
     "output_type": "stream",
     "text": [
      "100/100 [==============================] - 65s 649ms/step - loss: 1.7378 - accuracy: 0.2983 - val_loss: 1.6101 - val_accuracy: 0.3793 - lr: 1.0000e-04\n",
      "Epoch 3/40\n",
      "100/100 [==============================] - 63s 632ms/step - loss: 1.6185 - accuracy: 0.3363 - val_loss: 1.4458 - val_accuracy: 0.3981 - lr: 1.0000e-04\n",
      "Epoch 4/40\n",
      "100/100 [==============================] - 64s 640ms/step - loss: 1.4328 - accuracy: 0.4490 - val_loss: 1.4337 - val_accuracy: 0.4545 - lr: 1.0000e-04\n",
      "Epoch 5/40\n",
      "100/100 [==============================] - 62s 620ms/step - loss: 1.4279 - accuracy: 0.4390 - val_loss: 1.3315 - val_accuracy: 0.4734 - lr: 1.0000e-04\n",
      "Epoch 6/40\n",
      "100/100 [==============================] - 61s 613ms/step - loss: 1.2818 - accuracy: 0.5230 - val_loss: 1.0546 - val_accuracy: 0.5987 - lr: 1.0000e-04\n",
      "Epoch 7/40\n",
      "100/100 [==============================] - 62s 617ms/step - loss: 1.1632 - accuracy: 0.5700 - val_loss: 1.0954 - val_accuracy: 0.5987 - lr: 1.0000e-04\n",
      "Epoch 8/40\n",
      "100/100 [==============================] - 63s 625ms/step - loss: 1.0758 - accuracy: 0.5930 - val_loss: 0.9591 - val_accuracy: 0.6489 - lr: 1.0000e-04\n",
      "Epoch 9/40\n",
      "100/100 [==============================] - 65s 645ms/step - loss: 0.9853 - accuracy: 0.6180 - val_loss: 0.9517 - val_accuracy: 0.6082 - lr: 1.0000e-04\n",
      "Epoch 10/40\n",
      "100/100 [==============================] - 63s 628ms/step - loss: 0.9649 - accuracy: 0.6510 - val_loss: 1.1021 - val_accuracy: 0.6332 - lr: 1.0000e-04\n",
      "Epoch 11/40\n",
      "100/100 [==============================] - 62s 614ms/step - loss: 0.9051 - accuracy: 0.6777 - val_loss: 1.0000 - val_accuracy: 0.6395 - lr: 1.0000e-04\n",
      "Epoch 12/40\n",
      "100/100 [==============================] - 62s 615ms/step - loss: 0.8933 - accuracy: 0.6510 - val_loss: 0.9723 - val_accuracy: 0.6489 - lr: 1.0000e-04\n",
      "Epoch 13/40\n",
      "100/100 [==============================] - 62s 621ms/step - loss: 0.8415 - accuracy: 0.6770 - val_loss: 1.0575 - val_accuracy: 0.6552 - lr: 1.0000e-04\n",
      "Epoch 14/40\n",
      "100/100 [==============================] - 63s 631ms/step - loss: 0.8602 - accuracy: 0.6930 - val_loss: 1.1422 - val_accuracy: 0.6238 - lr: 1.0000e-04\n",
      "Epoch 15/40\n",
      "100/100 [==============================] - 65s 648ms/step - loss: 0.7937 - accuracy: 0.7007 - val_loss: 0.9472 - val_accuracy: 0.6520 - lr: 1.0000e-04\n",
      "Epoch 16/40\n",
      "100/100 [==============================] - 65s 649ms/step - loss: 0.8822 - accuracy: 0.6947 - val_loss: 1.1294 - val_accuracy: 0.6301 - lr: 1.0000e-04\n",
      "Epoch 17/40\n",
      "100/100 [==============================] - 65s 650ms/step - loss: 0.7606 - accuracy: 0.7070 - val_loss: 1.3199 - val_accuracy: 0.6019 - lr: 1.0000e-04\n",
      "Epoch 18/40\n",
      "100/100 [==============================] - 63s 631ms/step - loss: 0.7964 - accuracy: 0.7080 - val_loss: 1.0162 - val_accuracy: 0.6489 - lr: 1.0000e-04\n",
      "Epoch 19/40\n",
      "100/100 [==============================] - 61s 609ms/step - loss: 0.7813 - accuracy: 0.7130 - val_loss: 0.9153 - val_accuracy: 0.6771 - lr: 1.0000e-04\n",
      "Epoch 20/40\n",
      "100/100 [==============================] - 61s 609ms/step - loss: 0.7107 - accuracy: 0.7287 - val_loss: 0.9081 - val_accuracy: 0.6928 - lr: 1.0000e-04\n",
      "Epoch 21/40\n",
      "100/100 [==============================] - 61s 606ms/step - loss: 0.7081 - accuracy: 0.7430 - val_loss: 1.0354 - val_accuracy: 0.6865 - lr: 1.0000e-04\n",
      "Epoch 22/40\n",
      "100/100 [==============================] - 61s 613ms/step - loss: 0.7162 - accuracy: 0.7370 - val_loss: 0.9683 - val_accuracy: 0.6803 - lr: 1.0000e-04\n",
      "Epoch 23/40\n",
      "100/100 [==============================] - 62s 615ms/step - loss: 0.5985 - accuracy: 0.7840 - val_loss: 0.8861 - val_accuracy: 0.7147 - lr: 1.0000e-04\n",
      "Epoch 24/40\n",
      "100/100 [==============================] - 63s 633ms/step - loss: 0.6723 - accuracy: 0.7510 - val_loss: 1.2990 - val_accuracy: 0.6426 - lr: 1.0000e-04\n",
      "Epoch 25/40\n",
      "100/100 [==============================] - 64s 637ms/step - loss: 0.6434 - accuracy: 0.7688 - val_loss: 0.8690 - val_accuracy: 0.7147 - lr: 1.0000e-04\n",
      "Epoch 26/40\n",
      "100/100 [==============================] - 64s 637ms/step - loss: 0.6816 - accuracy: 0.7550 - val_loss: 0.8859 - val_accuracy: 0.7273 - lr: 1.0000e-04\n",
      "Epoch 27/40\n",
      "100/100 [==============================] - 65s 645ms/step - loss: 0.6205 - accuracy: 0.7860 - val_loss: 0.7892 - val_accuracy: 0.7586 - lr: 1.0000e-04\n",
      "Epoch 28/40\n",
      "100/100 [==============================] - 64s 640ms/step - loss: 0.5762 - accuracy: 0.7908 - val_loss: 0.9353 - val_accuracy: 0.7116 - lr: 1.0000e-04\n",
      "Epoch 29/40\n",
      "100/100 [==============================] - 61s 613ms/step - loss: 0.6013 - accuracy: 0.7800 - val_loss: 1.2030 - val_accuracy: 0.6959 - lr: 1.0000e-04\n",
      "Epoch 30/40\n",
      "100/100 [==============================] - 61s 611ms/step - loss: 0.5796 - accuracy: 0.7920 - val_loss: 1.0874 - val_accuracy: 0.6740 - lr: 1.0000e-04\n",
      "Epoch 31/40\n",
      "100/100 [==============================] - 61s 607ms/step - loss: 0.6149 - accuracy: 0.7818 - val_loss: 0.9385 - val_accuracy: 0.7273 - lr: 1.0000e-04\n",
      "Epoch 32/40\n",
      "100/100 [==============================] - 61s 608ms/step - loss: 0.5243 - accuracy: 0.8060 - val_loss: 1.2283 - val_accuracy: 0.6834 - lr: 1.0000e-04\n",
      "Epoch 33/40\n",
      "100/100 [==============================] - 61s 612ms/step - loss: 0.6198 - accuracy: 0.7858 - val_loss: 0.9140 - val_accuracy: 0.7210 - lr: 1.0000e-04\n",
      "Epoch 34/40\n",
      "100/100 [==============================] - 62s 620ms/step - loss: 0.5461 - accuracy: 0.7890 - val_loss: 1.0530 - val_accuracy: 0.7210 - lr: 1.0000e-04\n",
      "Epoch 35/40\n",
      "100/100 [==============================] - 63s 630ms/step - loss: 0.5404 - accuracy: 0.8180 - val_loss: 0.9334 - val_accuracy: 0.7586 - lr: 1.0000e-04\n",
      "Epoch 36/40\n",
      "100/100 [==============================] - 61s 611ms/step - loss: 0.5565 - accuracy: 0.7920 - val_loss: 0.7996 - val_accuracy: 0.7618 - lr: 1.0000e-04\n",
      "Epoch 37/40\n",
      "100/100 [==============================] - 61s 610ms/step - loss: 0.5239 - accuracy: 0.7950 - val_loss: 0.8764 - val_accuracy: 0.7398 - lr: 1.0000e-04\n",
      "Epoch 38/40\n",
      "100/100 [==============================] - 62s 614ms/step - loss: 0.5608 - accuracy: 0.8110 - val_loss: 1.0476 - val_accuracy: 0.7335 - lr: 1.0000e-04\n",
      "Epoch 39/40\n",
      "100/100 [==============================] - 62s 622ms/step - loss: 0.5756 - accuracy: 0.8090 - val_loss: 0.9123 - val_accuracy: 0.7398 - lr: 1.0000e-04\n",
      "Epoch 40/40\n",
      "100/100 [==============================] - 64s 641ms/step - loss: 0.5138 - accuracy: 0.8190 - val_loss: 0.8508 - val_accuracy: 0.7304 - lr: 1.0000e-04\n"
     ]
    },
    {
     "data": {
      "text/plain": [
       "<keras.callbacks.History at 0x7f5f9cb53520>"
      ]
     },
     "execution_count": 10,
     "metadata": {},
     "output_type": "execute_result"
    }
   ],
   "source": [
    "# Train the model\n",
    "net_final.fit(\n",
    "    train_batches,\n",
    "    validation_data=valid_batches,\n",
    "    epochs=40,\n",
    "    verbose=1,\n",
    "    steps_per_epoch=100,\n",
    "    class_weight=class_weights,\n",
    "     callbacks=[ ReduceLR],\n",
    "    \n",
    ")"
   ]
  },
  {
   "cell_type": "code",
   "execution_count": null,
   "metadata": {},
   "outputs": [
    {
     "name": "stdout",
     "output_type": "stream",
     "text": [
      "38/38 [==============================] - 5s 132ms/step - loss: 0.6885 - accuracy: 0.8113\n"
     ]
    },
    {
     "name": "stderr",
     "output_type": "stream",
     "text": [
      "2022-07-19 19:54:54.911595: W tensorflow/core/common_runtime/bfc_allocator.cc:290] Allocator (GPU_0_bfc) ran out of memory trying to allocate 3.54GiB with freed_by_count=0. The caller indicates that this is not a failure, but this may mean that there could be performance gains if more memory were available.\n",
      "2022-07-19 19:54:54.911652: W tensorflow/core/common_runtime/bfc_allocator.cc:290] Allocator (GPU_0_bfc) ran out of memory trying to allocate 3.54GiB with freed_by_count=0. The caller indicates that this is not a failure, but this may mean that there could be performance gains if more memory were available.\n"
     ]
    },
    {
     "data": {
      "text/plain": [
       "[0.6884739995002747, 0.8113207817077637]"
      ]
     },
     "metadata": {},
     "output_type": "display_data"
    }
   ],
   "source": [
    "net_final.evaluate(test_batches)"
   ]
  },
  {
   "cell_type": "code",
   "execution_count": null,
   "metadata": {},
   "outputs": [],
   "source": []
  },
  {
   "cell_type": "code",
   "execution_count": null,
   "metadata": {},
   "outputs": [],
   "source": []
  }
 ],
 "metadata": {
  "accelerator": "GPU",
  "colab": {
   "authorship_tag": "ABX9TyMXT0O6v81gT8bsfY2QViyr",
   "collapsed_sections": [],
   "name": "Model.ipynb",
   "version": ""
  },
  "gpuClass": "standard",
  "kernelspec": {
   "display_name": "default:Python",
   "language": "python",
   "name": "conda-env-default-py"
  },
  "language_info": {
   "codemirror_mode": {
    "name": "ipython",
    "version": 3
   },
   "file_extension": ".py",
   "mimetype": "text/x-python",
   "name": "python",
   "nbconvert_exporter": "python",
   "pygments_lexer": "ipython3",
   "version": "3.9.7"
  }
 },
 "nbformat": 4,
 "nbformat_minor": 4
}
