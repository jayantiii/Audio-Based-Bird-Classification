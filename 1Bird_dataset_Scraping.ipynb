{
 "cells": [
  {
   "cell_type": "code",
   "execution_count": null,
   "id": "8528bfd7",
   "metadata": {},
   "outputs": [],
   "source": [
    "\n",
    "!pip install selenium\n",
    "!pip install webdriver_manager"
   ]
  },
  {
   "cell_type": "code",
   "execution_count": null,
   "id": "32d10909",
   "metadata": {},
   "outputs": [],
   "source": [
    "# Importing Libraries\n",
    "# We will be using selenium to automate to navigate to the said page. \n",
    "from selenium import webdriver\n",
    "from webdriver_manager.chrome import ChromeDriverManager\n",
    "import requests #Helps in obtaining the requests from the \n",
    "from bs4 import BeautifulSoup\n",
    "import pandas as pd\n",
    "import re\n",
    "import os\n",
    "import time\n",
    "import shutil\n",
    "import os\n",
    "import requests,json, re"
   ]
  },
  {
   "cell_type": "code",
   "execution_count": null,
   "id": "a8bfb2eb",
   "metadata": {},
   "outputs": [],
   "source": [
    "# Init of Selenium - Chrome WebDriver\n",
    "\n",
    "chrome_options = webdriver.ChromeOptions()\n",
    "# chrome_options.add_argument('--headless')\n",
    "# chrome_options.add_argument('--no-sandbox')\n",
    "# chrome_options.add_argument('--disable-dev-shm-usage')\n",
    "driver =webdriver.Chrome(ChromeDriverManager().install(),options=chrome_options)\n",
    "#Depreciation warning can be ignored, as we are trying to primarily complete the task within the deadline :)"
   ]
  },
  {
   "cell_type": "code",
   "execution_count": null,
   "id": "8710a61a",
   "metadata": {},
   "outputs": [],
   "source": [
    "BASE_URL=\"https://indianbirdsong.org/analytics/species/highest-lowest-recordings\"\n",
    "driver.get(BASE_URL)"
   ]
  },
  {
   "cell_type": "markdown",
   "id": "33d45b68",
   "metadata": {},
   "source": [
    "### Getting the main URL's"
   ]
  },
  {
   "cell_type": "code",
   "execution_count": null,
   "id": "748a258d",
   "metadata": {},
   "outputs": [],
   "source": [
    "tot_url_elements=[]\n",
    "for i in range(1,1000):\n",
    "    url_elements = driver.find_elements(\"xpath\",\"/html/body/div/div/div/div/div/div/div[2]/div/div[2]/table/tbody/tr[\"+str(i)+\"]/th/a[contains(@href, '/birds/')]\")\n",
    "    if str(url_elements)==\"[]\":\n",
    "        break\n",
    "    tot_url_elements.append(url_elements[0].get_attribute(\"href\"))"
   ]
  },
  {
   "cell_type": "code",
   "execution_count": null,
   "id": "c672e412",
   "metadata": {},
   "outputs": [],
   "source": [
    "# tot_url_elements"
   ]
  },
  {
   "cell_type": "markdown",
   "id": "1f0d8fc2",
   "metadata": {},
   "source": [
    "### Looping through the birds to get the audio URL"
   ]
  },
  {
   "cell_type": "code",
   "execution_count": null,
   "id": "79233d3d",
   "metadata": {
    "scrolled": true
   },
   "outputs": [],
   "source": [
    "audio_url_elements=pd.DataFrame(columns=[\"Bird Name\",\"J found\",\"Sound URL\"])\n",
    "test=0\n",
    "iteri=0\n",
    "for i in tot_url_elements:\n",
    "    print(\"*******************************\")\n",
    "    print()\n",
    "    print(\"Loading URL: \",i)\n",
    "    driver.get(i)\n",
    "    #Increase timer if Index Error occurs\n",
    "    time.sleep(5)\n",
    "    print(\"Loading done!!!!\")\n",
    "    bird_element = driver.find_elements(\"xpath\",\"/html/body/div/div/div/div/div/div/div[3]/div[2]/div[1]/h1\")\n",
    "    bird_name=bird_element[0].text\n",
    "    count_element = driver.find_elements(\"xpath\",\"/html/body/div/div/div/div/div/div/div[3]/div[2]/div[1]/a\")\n",
    "    count_val=0\n",
    "    try:\n",
    "        count_val=int(count_element[0].text)\n",
    "    except:\n",
    "        print(\"Number fetch failed\")\n",
    "        count_val=600\n",
    "    print(\"Bird Name: \",bird_name)\n",
    "    print(\"Total Noted Entries: \",count_val)\n",
    "    localfetch=0\n",
    "    for j in range(1,count_val+50):\n",
    "        url_elements = driver.find_elements(\"xpath\",\"/html/body/div/div/div/div/div/div/div[3]/div[4]/div/div[\"+str(j)+\"]/div[4]/div[2]/a\")\n",
    "        if str(url_elements)!=\"[]\":\n",
    "            audio_url_elements.at[iteri,'J found']=j\n",
    "            audio_url_elements.at[iteri,'Bird Name']=bird_name\n",
    "            audio_url_elements.at[iteri,'Sound URL']=url_elements[0].get_attribute(\"href\")\n",
    "            iteri+=1\n",
    "            localfetch+=1\n",
    "    print(\"-------------------------------------------------------\")\n",
    "    print(\"Fetched URLs for {} : {}\".format(bird_name,localfetch))\n",
    "    print(\"Failed / Not Available URLs for {} : {}\".format(bird_name,count_val-localfetch))\n",
    "    print(\"-------------------------------------------------------\")\n",
    "    print()\n",
    "#             audio_url_elements.append(url_elements[0].get_attribute(\"href\"))\n",
    "#     test+=1\n",
    "#     if test >=1:\n",
    "#         break"
   ]
  },
  {
   "cell_type": "markdown",
   "id": "656e4909",
   "metadata": {},
   "source": [
    "### Run this for saving the Audio files "
   ]
  },
  {
   "cell_type": "code",
   "execution_count": null,
   "id": "5dc83859",
   "metadata": {},
   "outputs": [],
   "source": [
    "for index, row in audio_url_elements.iterrows():\n",
    "#     print(row[\"Thumbnail URL\"])\n",
    "    \n",
    "    if not os.path.exists(row[\"Bird Name\"]):\n",
    "        os.makedirs(row[\"Bird Name\"])\n",
    "    \n",
    "    image_url=row[\"Sound URL\"]\n",
    "    filename=row[\"Bird Name\"]+\"\\\\\"+row[\"Bird Name\"]+\" - \"+str(index)+\" .mp3\"\n",
    "    r = requests.get(image_url, stream = True)\n",
    "\n",
    "    # Check if the image was retrieved successfully\n",
    "    if r.status_code == 200:\n",
    "        # Set decode_content value to True, otherwise the downloaded image file's size will be zero.\n",
    "        r.raw.decode_content = True\n",
    "\n",
    "        # Open a local file with wb ( write binary ) permission.\n",
    "        with open(filename,'wb') as f:\n",
    "            shutil.copyfileobj(r.raw, f)\n",
    "\n",
    "        print('Audio sucessfully Downloaded: Location - ',filename)\n",
    "    else:\n",
    "        print('Audio Couldn\\'t be retreived')"
   ]
  },
  {
   "cell_type": "code",
   "execution_count": null,
   "id": "654b5b26",
   "metadata": {},
   "outputs": [],
   "source": []
  },
  {
   "cell_type": "code",
   "execution_count": null,
   "id": "4585f66e",
   "metadata": {},
   "outputs": [],
   "source": [
    "#Nothing, dummy\n",
    "\n",
    "# audio_url_elements['J found']=audio_url_elements['J found'].astype('int')\n",
    "# audio_url_elements.loc[audio_url_elements[\"J found\"].idxmax()]"
   ]
  }
 ],
 "metadata": {},
 "nbformat": 4,
 "nbformat_minor": 5
}
