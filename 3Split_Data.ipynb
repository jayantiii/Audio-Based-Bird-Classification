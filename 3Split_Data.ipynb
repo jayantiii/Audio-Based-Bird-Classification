{
  "nbformat": 4,
  "nbformat_minor": 0,
  "metadata": {
    "colab": {
      "name": "Split_Data.ipynb",
      "provenance": []
    },
    "kernelspec": {
      "name": "python3",
      "display_name": "Python 3"
    },
    "language_info": {
      "name": "python"
    }
  },
  "cells": [
    {
      "cell_type": "code",
      "execution_count": null,
      "metadata": {
        "colab": {
          "base_uri": "https://localhost:8080/"
        },
        "id": "Ev78j2McfNhH",
        "outputId": "18dcd46b-020b-4536-de2e-021ffd6918a2"
      },
      "outputs": [
        {
          "output_type": "stream",
          "name": "stdout",
          "text": [
            "Drive already mounted at /content/gdrive; to attempt to forcibly remount, call drive.mount(\"/content/gdrive\", force_remount=True).\n"
          ]
        }
      ],
      "source": [
        "from google.colab import drive\n",
        "drive.mount('/content/gdrive')"
      ]
    },
    {
      "cell_type": "code",
      "source": [],
      "metadata": {
        "id": "XdbDIgYyli0c"
      },
      "execution_count": null,
      "outputs": []
    },
    {
      "cell_type": "code",
      "execution_count": null,
      "metadata": {
        "colab": {
          "base_uri": "https://localhost:8080/"
        },
        "id": "-vkkS4kBsyEr",
        "outputId": "32ed6496-9a38-4b61-8cae-b01bb4c4757c"
      },
      "outputs": [
        {
          "output_type": "stream",
          "name": "stdout",
          "text": [
            "['Asian koel', 'Common tailorbird', 'White-throated kingfisher', 'White-cheeked barbet', 'Red-vented bulbul', 'Common hawk-cuckoo']\n",
            "Found  124  mp3 files for  Asian koel\n",
            "Size of train:  99 , val:  12 , test:  12\n",
            "Found  126  mp3 files for  Common tailorbird\n",
            "Size of train:  100 , val:  12 , test:  12\n",
            "Found  95  mp3 files for  White-throated kingfisher\n",
            "Size of train:  76 , val:  9 , test:  9\n",
            "Found  94  mp3 files for  White-cheeked barbet\n",
            "Size of train:  75 , val:  9 , test:  9\n",
            "Found  85  mp3 files for  Red-vented bulbul\n",
            "Size of train:  68 , val:  8 , test:  8\n",
            "Found  84  mp3 files for  Common hawk-cuckoo\n",
            "Size of train:  67 , val:  8 , test:  8\n",
            "[99, 100, 76, 75, 68, 67]\n",
            "[12, 12, 9, 9, 8, 8]\n",
            "[13, 14, 10, 10, 9, 9]\n"
          ]
        }
      ],
      "source": [
        "import os\n",
        "\n",
        "# define number of files for all sets\n",
        "train = 0.8 # 80% of all sound should be in the train set\n",
        "val = 0.1 # 10% validation set\n",
        "test = 0.1 # 10% test set\n",
        "kfolds = 1\n",
        "basePath=\"gdrive/My Drive/Indian_birds/Dataset/\" # path with sound files\n",
        "imPath = \"gdrive/My Drive/Indian_birds/mels_class/\" # path with images (melspectrograms)\n",
        "destPath = \"gdrive/My Drive/Indian_birds/Final_data/\" # destination path - where the split dataset should be copied\n",
        "                            # This folder will be used to train CNNs\n",
        "\n",
        "# first find all of the mp3 files in the directory\n",
        "birds=[] # list of all bird spiecies (Ember, Phyll...)\n",
        "singleBirdList=[] # list of files for one bird\n",
        "allFilesList=[] # list of all files for all birds. A list of singleBirdLists. \n",
        "for root, dirs, files in os.walk(basePath):\n",
        "    if root == basePath:\n",
        "        birds=dirs\n",
        "print(birds)\n",
        "\n",
        "trainSet=[]\n",
        "testSet=[]\n",
        "valSet=[]\n",
        "\n",
        "birdsShort=[] # list of short file names\n",
        "birdNumber=0\n",
        "for nr,bird in enumerate(birds):\n",
        "    for root, dirs, files in os.walk(basePath+bird):\n",
        "        for file in files:\n",
        "            if file.endswith(\".mp3\"):\n",
        "                singleBirdList.append(os.path.join(root, file))\n",
        "    if len(singleBirdList) > 1:\n",
        "        birdsShort.append(str(birdNumber)+bird[:5])\n",
        "        birdNumber = birdNumber+1;\n",
        "        print(\"Found \", len(singleBirdList), ' mp3 files for ', bird)\n",
        "        trainSet.append(int(train*len(singleBirdList)))\n",
        "        valSet.append(int(val*len(singleBirdList)))\n",
        "        roundDiff = len(singleBirdList)-(int(train*len(singleBirdList))+int(test*len(singleBirdList))+int(val*len(singleBirdList))) \n",
        "        testSet.append(int(test*len(singleBirdList)) + roundDiff)\n",
        "        print(\"Size of train: \", int(train*len(singleBirdList)),\", val: \",int(val*len(singleBirdList)) ,\", test: \",int(test*len(singleBirdList)))\n",
        "        allFilesList.append(singleBirdList)\n",
        "    singleBirdList=[]\n",
        "\n",
        "\n",
        "print(trainSet)\n",
        "print(valSet)\n",
        "print(testSet)\n"
      ]
    },
    {
      "cell_type": "code",
      "source": [
        "# randomly choose mp3 files for each set  \n",
        "\n",
        "from random import sample\n",
        "\n",
        "trainFiles=[]\n",
        "valFiles=[]\n",
        "testFiles=[]\n",
        "\n",
        "for index, singleBirdList in enumerate(allFilesList):\n",
        "    randFiles = sample(range(len(singleBirdList)), len(singleBirdList))\n",
        "    start = 0\n",
        "    end = trainSet[index]\n",
        "    trainFiles.append(randFiles[start:end])\n",
        "    start = end \n",
        "    end = start + valSet[index]\n",
        "    valFiles.append(randFiles[start:end])\n",
        "    start = end \n",
        "    end = start + testSet[index] \n",
        "    testFiles.append(randFiles[start:end])\n",
        "    print(\"Selected random files number:\\n train: \", len(trainFiles[index]),\"/\",trainSet[index],\n",
        "          \", val: \",len(valFiles[index]),\"/\",valSet[index],\n",
        "          \", test: \",len(testFiles[index]),\"/\",testSet[index])"
      ],
      "metadata": {
        "colab": {
          "base_uri": "https://localhost:8080/"
        },
        "id": "QlNkPtJylo2h",
        "outputId": "6d3b149e-ac11-405e-fe78-355388ec5f3a"
      },
      "execution_count": null,
      "outputs": [
        {
          "output_type": "stream",
          "name": "stdout",
          "text": [
            "Selected random files number:\n",
            " train:  99 / 99 , val:  12 / 12 , test:  13 / 13\n",
            "Selected random files number:\n",
            " train:  100 / 100 , val:  12 / 12 , test:  14 / 14\n",
            "Selected random files number:\n",
            " train:  76 / 76 , val:  9 / 9 , test:  10 / 10\n",
            "Selected random files number:\n",
            " train:  75 / 75 , val:  9 / 9 , test:  10 / 10\n",
            "Selected random files number:\n",
            " train:  68 / 68 , val:  8 / 8 , test:  9 / 9\n",
            "Selected random files number:\n",
            " train:  67 / 67 , val:  8 / 8 , test:  9 / 9\n"
          ]
        }
      ]
    },
    {
      "cell_type": "code",
      "source": [
        "def extractName(string):\n",
        "    return string.rsplit('/',1)[1].replace(' ', '')[:-4]"
      ],
      "metadata": {
        "id": "jwVBwd82lwTm"
      },
      "execution_count": null,
      "outputs": []
    },
    {
      "cell_type": "code",
      "source": [
        "# sort all the lists to make copying files easier\n",
        "sets=[trainFiles,valFiles,testFiles]\n",
        "for fileSet in sets:\n",
        "    for index,files in enumerate(fileSet):\n",
        "        fileSet[index].sort()"
      ],
      "metadata": {
        "id": "Za5Tw84OlyA4"
      },
      "execution_count": null,
      "outputs": []
    },
    {
      "cell_type": "code",
      "source": [
        "# change full names to short\n",
        "\n",
        "for root, dirs, files in os.walk(basePath):\n",
        "    if root == basePath:\n",
        "        birds=dirs\n",
        "#birdsShort=[]\n",
        "#for bird in birds:\n",
        "#    birdsShort.append(bird[:5])\n",
        "\n",
        "setNames = [\"train/\",\"val/\",\"test/\"]\n",
        "\n",
        "print(\"Long: \", birds,\"\\nShort: \",birdsShort)\n"
      ],
      "metadata": {
        "colab": {
          "base_uri": "https://localhost:8080/"
        },
        "id": "84rBUA5El0JZ",
        "outputId": "39663ec3-fcae-4f1c-8019-1d0f1a05c9e9"
      },
      "execution_count": null,
      "outputs": [
        {
          "output_type": "stream",
          "name": "stdout",
          "text": [
            "Long:  ['Asian koel', 'Common tailorbird', 'White-throated kingfisher', 'White-cheeked barbet', 'Red-vented bulbul', 'Common hawk-cuckoo'] \n",
            "Short:  ['0Asian', '1Commo', '2White', '3White', '4Red-v', '5Commo']\n"
          ]
        }
      ]
    },
    {
      "cell_type": "code",
      "source": [
        "\n",
        "import shutil\n",
        "\n",
        "counter=0\n",
        "for birdNumber, bird in enumerate(birdsShort): # for each class (bird) check where the file should be copied\n",
        "    print(counter)\n",
        "    counter=0\n",
        "    for setName, fileSet in zip(setNames, sets): # check for all datasets: train, val and test sests \n",
        "        for setNumber in fileSet[birdNumber]:\n",
        "            \n",
        "            for fileNumber, file in enumerate(allFilesList[birdNumber]):\n",
        "                if setNumber == fileNumber: # if file number to copy is same as number of file, then copy it\n",
        "                    \n",
        "                    for root, dirs, files in os.walk(imPath):\n",
        "                      \n",
        "                        for file2 in files:\n",
        "                      \n",
        "                            if extractName(file) in file2:\n",
        "                              \n",
        "                                counter=counter+1\n",
        "                                source=root+\"/\"+file2\n",
        "                                \n",
        "                                destination = destPath+setName+bird+\"/\"\n",
        "                                if not os.path.exists(destination):\n",
        "                                    os.makedirs(destination)\n",
        "                                shutil.copy2(source, destination)\n",
        "                                #print(source, \"   ->   \", destination)"
      ],
      "metadata": {
        "colab": {
          "base_uri": "https://localhost:8080/"
        },
        "id": "d82Wba77l3Iy",
        "outputId": "6fec818d-bf7d-4ff9-d5a9-d9c8a6d52a37"
      },
      "execution_count": null,
      "outputs": [
        {
          "output_type": "stream",
          "name": "stdout",
          "text": [
            "0\n",
            "944\n",
            "585\n",
            "487\n",
            "574\n",
            "626\n"
          ]
        }
      ]
    },
    {
      "cell_type": "code",
      "source": [],
      "metadata": {
        "id": "V2WkrRy0wXEf"
      },
      "execution_count": null,
      "outputs": []
    }
  ]
}
